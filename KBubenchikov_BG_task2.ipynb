{
  "nbformat": 4,
  "nbformat_minor": 0,
  "metadata": {
    "colab": {
      "name": "KBubenchikov_BG_task2.ipynb",
      "provenance": [],
      "collapsed_sections": []
    },
    "kernelspec": {
      "display_name": "Python 3",
      "name": "python3"
    },
    "language_info": {
      "name": "python"
    }
  },
  "cells": [
    {
      "cell_type": "code",
      "metadata": {
        "id": "VBJjmBZgBX8E"
      },
      "source": [
        "import numpy as np\n",
        "import pandas as pd\n",
        "\n",
        "import seaborn as sns\n",
        "import matplotlib.pyplot as plt\n",
        "\n",
        "from scipy import stats\n",
        "\n",
        "from sklearn.model_selection import train_test_split\n",
        "from sklearn.ensemble import RandomForestClassifier"
      ],
      "execution_count": 1,
      "outputs": []
    },
    {
      "cell_type": "markdown",
      "metadata": {
        "id": "QuG_QG7Wg_yh"
      },
      "source": [
        "В данном задании необходимо провести аналитику данного датасета, а также построить классификационную модель, определяющую, болен ли человек."
      ]
    },
    {
      "cell_type": "code",
      "metadata": {
        "id": "xzQ5hyWkESUj"
      },
      "source": [
        "# подготовим заголовки колонок таблицы\n",
        "col_names = ['age',\n",
        "             'gender',\n",
        "             'type of pain',\n",
        "             'blood pressure',\n",
        "             'cholesterol',\n",
        "             'sugar level',\n",
        "             'ECG result',\n",
        "             'maximum heart rate',\n",
        "             'angina pectoris during physical exertion',\n",
        "             'ST depression on exertion / rest',\n",
        "             'ST slope under load',\n",
        "             'number of vessels',\n",
        "             'thalassemia',\n",
        "             'target predict class']"
      ],
      "execution_count": 2,
      "outputs": []
    },
    {
      "cell_type": "code",
      "metadata": {
        "id": "0BT02C4KBkLk",
        "colab": {
          "base_uri": "https://localhost:8080/"
        },
        "outputId": "5be7601e-3b05-486b-bf3d-ad3827e2fc93"
      },
      "source": [
        "df = pd.read_csv(\"/content/drive/MyDrive/Bostongene_Intern_test/dataset.csv\", header = 0, names=col_names)\n",
        "df.head"
      ],
      "execution_count": 3,
      "outputs": [
        {
          "output_type": "execute_result",
          "data": {
            "text/plain": [
              "<bound method NDFrame.head of      age  gender  ...  thalassemia  target predict class\n",
              "0     63       1  ...            1                     1\n",
              "1     37       1  ...            2                     1\n",
              "2     41       0  ...            2                     1\n",
              "3     56       1  ...            2                     1\n",
              "4     57       0  ...            2                     1\n",
              "..   ...     ...  ...          ...                   ...\n",
              "298   57       0  ...            3                     0\n",
              "299   45       1  ...            3                     0\n",
              "300   68       1  ...            3                     0\n",
              "301   57       1  ...            3                     0\n",
              "302   57       0  ...            2                     0\n",
              "\n",
              "[303 rows x 14 columns]>"
            ]
          },
          "metadata": {
            "tags": []
          },
          "execution_count": 3
        }
      ]
    },
    {
      "cell_type": "code",
      "metadata": {
        "id": "CTMsEr84BkBh",
        "colab": {
          "base_uri": "https://localhost:8080/"
        },
        "outputId": "1e3ab264-e891-4f70-f568-012957311192"
      },
      "source": [
        "# признак \"ST депрессия при нагрузке / при отдыхе\" необходимо разделить на два отдельных признака\n",
        "exertion_list = []\n",
        "rest_list = []\n",
        "\n",
        "for rows in df[\"ST depression on exertion / rest\"]: # итерируемся по строкам в признаке\n",
        "  rows = str(rows) # конвертируем float64 в string \n",
        "  \n",
        "  # объявляем вспомогательные переменные для каждой строки таблицы\n",
        "  exertion = ''\n",
        "  rest = ''\n",
        "  dot = False # точка еще не встречалась в строке\n",
        "\n",
        "  for i in rows: # итерируемся по элементам строки\n",
        "    if i != '.' and dot == False: # заполнение \"при нагрузке\"\n",
        "      exertion += i\n",
        "    elif i != '.' and dot == True: # заполнение \"при отдыхе\"\n",
        "      rest += i\n",
        "    elif i == '.': # отлавливаем точку через флаг dot\n",
        "      dot = True\n",
        "  \n",
        "  # заполняем значения\n",
        "  exertion_list.append(int(exertion)) \n",
        "  rest_list.append(int(rest))\n",
        "\n",
        "# смотрим какие списки получились\n",
        "print('exertion_list', exertion_list)\n",
        "print('rest_list', rest_list)"
      ],
      "execution_count": 4,
      "outputs": [
        {
          "output_type": "stream",
          "text": [
            "exertion_list [2, 3, 1, 0, 0, 0, 1, 0, 0, 1, 1, 0, 0, 1, 1, 1, 0, 2, 1, 1, 0, 0, 0, 1, 1, 0, 1, 0, 0, 1, 0, 0, 0, 0, 1, 1, 0, 1, 0, 0, 1, 0, 3, 0, 0, 0, 0, 0, 0, 0, 0, 0, 1, 0, 0, 0, 0, 0, 0, 0, 0, 0, 0, 0, 0, 1, 1, 0, 0, 0, 0, 0, 0, 0, 0, 1, 2, 0, 0, 0, 0, 0, 0, 1, 0, 1, 1, 0, 1, 1, 0, 0, 0, 0, 0, 0, 1, 0, 1, 0, 0, 4, 0, 0, 0, 1, 0, 0, 1, 0, 0, 0, 0, 0, 0, 0, 2, 1, 0, 0, 2, 0, 0, 0, 0, 0, 0, 0, 0, 0, 0, 0, 0, 0, 0, 0, 0, 0, 1, 0, 0, 1, 0, 0, 1, 0, 0, 0, 0, 0, 2, 1, 0, 0, 0, 0, 0, 0, 0, 0, 0, 1, 0, 0, 0, 1, 2, 3, 1, 3, 0, 1, 1, 3, 2, 2, 1, 0, 2, 0, 1, 1, 0, 2, 2, 0, 1, 2, 0, 0, 1, 2, 1, 2, 3, 3, 3, 0, 1, 0, 0, 2, 0, 1, 6, 0, 1, 2, 2, 0, 0, 3, 1, 1, 1, 3, 1, 1, 2, 0, 4, 5, 1, 4, 2, 2, 1, 1, 0, 1, 0, 1, 0, 2, 2, 1, 0, 1, 0, 0, 2, 0, 2, 1, 2, 0, 1, 0, 0, 2, 4, 0, 1, 0, 0, 0, 3, 0, 1, 3, 1, 0, 2, 1, 0, 0, 3, 0, 3, 1, 0, 2, 1, 0, 1, 1, 2, 0, 0, 3, 1, 1, 2, 0, 1, 1, 0, 0, 3, 2, 0, 4, 2, 0, 2, 4, 0, 1, 0, 1, 3, 1, 0]\n",
            "rest_list [3, 5, 4, 8, 6, 4, 3, 0, 5, 6, 2, 2, 6, 8, 0, 6, 0, 6, 5, 8, 5, 4, 0, 0, 4, 4, 6, 6, 8, 2, 0, 4, 0, 5, 4, 4, 0, 6, 8, 8, 5, 2, 0, 4, 0, 2, 0, 0, 0, 0, 5, 4, 8, 6, 0, 8, 0, 0, 0, 0, 0, 0, 0, 0, 0, 4, 2, 6, 0, 0, 4, 0, 0, 0, 2, 4, 4, 0, 0, 6, 0, 0, 0, 2, 6, 6, 0, 0, 6, 0, 0, 0, 0, 0, 0, 0, 2, 1, 9, 0, 8, 2, 0, 8, 0, 5, 1, 2, 1, 0, 0, 2, 2, 0, 0, 0, 0, 9, 0, 0, 0, 0, 0, 0, 0, 7, 1, 0, 1, 2, 0, 0, 0, 0, 0, 0, 0, 0, 5, 2, 6, 2, 0, 3, 1, 0, 3, 9, 0, 0, 3, 6, 6, 0, 0, 6, 0, 0, 4, 0, 0, 2, 0, 0, 0, 5, 6, 6, 4, 1, 6, 0, 8, 2, 4, 0, 4, 0, 5, 6, 2, 0, 0, 5, 6, 0, 4, 2, 6, 0, 2, 2, 4, 8, 0, 4, 6, 2, 8, 6, 0, 8, 8, 6, 2, 0, 2, 6, 0, 0, 4, 6, 2, 0, 2, 0, 2, 8, 8, 0, 0, 6, 4, 0, 8, 6, 4, 6, 2, 8, 0, 0, 8, 2, 4, 6, 0, 2, 0, 0, 9, 0, 0, 2, 1, 5, 9, 0, 0, 0, 2, 1, 9, 9, 0, 0, 0, 9, 4, 8, 0, 0, 0, 8, 0, 1, 4, 8, 2, 6, 8, 6, 0, 1, 0, 0, 0, 3, 0, 6, 8, 0, 2, 0, 9, 8, 8, 0, 0, 0, 0, 4, 8, 8, 8, 0, 0, 0, 2, 2, 4, 2, 0]\n"
          ],
          "name": "stdout"
        }
      ]
    },
    {
      "cell_type": "code",
      "metadata": {
        "id": "xn3B0y_fKgRs",
        "colab": {
          "base_uri": "https://localhost:8080/",
          "height": 422
        },
        "outputId": "b8c68190-bfa4-415d-a330-f00d81ac1211"
      },
      "source": [
        "df[\"ST depression on exertion\"] = exertion_list\n",
        "df[\"ST depression on rest\"] = rest_list\n",
        "df = df.drop(['ST depression on exertion / rest'], axis = 1)\n",
        "df"
      ],
      "execution_count": 5,
      "outputs": [
        {
          "output_type": "execute_result",
          "data": {
            "text/html": [
              "<div>\n",
              "<style scoped>\n",
              "    .dataframe tbody tr th:only-of-type {\n",
              "        vertical-align: middle;\n",
              "    }\n",
              "\n",
              "    .dataframe tbody tr th {\n",
              "        vertical-align: top;\n",
              "    }\n",
              "\n",
              "    .dataframe thead th {\n",
              "        text-align: right;\n",
              "    }\n",
              "</style>\n",
              "<table border=\"1\" class=\"dataframe\">\n",
              "  <thead>\n",
              "    <tr style=\"text-align: right;\">\n",
              "      <th></th>\n",
              "      <th>age</th>\n",
              "      <th>gender</th>\n",
              "      <th>type of pain</th>\n",
              "      <th>blood pressure</th>\n",
              "      <th>cholesterol</th>\n",
              "      <th>sugar level</th>\n",
              "      <th>ECG result</th>\n",
              "      <th>maximum heart rate</th>\n",
              "      <th>angina pectoris during physical exertion</th>\n",
              "      <th>ST slope under load</th>\n",
              "      <th>number of vessels</th>\n",
              "      <th>thalassemia</th>\n",
              "      <th>target predict class</th>\n",
              "      <th>ST depression on exertion</th>\n",
              "      <th>ST depression on rest</th>\n",
              "    </tr>\n",
              "  </thead>\n",
              "  <tbody>\n",
              "    <tr>\n",
              "      <th>0</th>\n",
              "      <td>63</td>\n",
              "      <td>1</td>\n",
              "      <td>3</td>\n",
              "      <td>145</td>\n",
              "      <td>233</td>\n",
              "      <td>1</td>\n",
              "      <td>0</td>\n",
              "      <td>150</td>\n",
              "      <td>0</td>\n",
              "      <td>0</td>\n",
              "      <td>0</td>\n",
              "      <td>1</td>\n",
              "      <td>1</td>\n",
              "      <td>2</td>\n",
              "      <td>3</td>\n",
              "    </tr>\n",
              "    <tr>\n",
              "      <th>1</th>\n",
              "      <td>37</td>\n",
              "      <td>1</td>\n",
              "      <td>2</td>\n",
              "      <td>130</td>\n",
              "      <td>250</td>\n",
              "      <td>0</td>\n",
              "      <td>1</td>\n",
              "      <td>187</td>\n",
              "      <td>0</td>\n",
              "      <td>0</td>\n",
              "      <td>0</td>\n",
              "      <td>2</td>\n",
              "      <td>1</td>\n",
              "      <td>3</td>\n",
              "      <td>5</td>\n",
              "    </tr>\n",
              "    <tr>\n",
              "      <th>2</th>\n",
              "      <td>41</td>\n",
              "      <td>0</td>\n",
              "      <td>1</td>\n",
              "      <td>130</td>\n",
              "      <td>204</td>\n",
              "      <td>0</td>\n",
              "      <td>0</td>\n",
              "      <td>172</td>\n",
              "      <td>0</td>\n",
              "      <td>2</td>\n",
              "      <td>0</td>\n",
              "      <td>2</td>\n",
              "      <td>1</td>\n",
              "      <td>1</td>\n",
              "      <td>4</td>\n",
              "    </tr>\n",
              "    <tr>\n",
              "      <th>3</th>\n",
              "      <td>56</td>\n",
              "      <td>1</td>\n",
              "      <td>1</td>\n",
              "      <td>120</td>\n",
              "      <td>236</td>\n",
              "      <td>0</td>\n",
              "      <td>1</td>\n",
              "      <td>178</td>\n",
              "      <td>0</td>\n",
              "      <td>2</td>\n",
              "      <td>0</td>\n",
              "      <td>2</td>\n",
              "      <td>1</td>\n",
              "      <td>0</td>\n",
              "      <td>8</td>\n",
              "    </tr>\n",
              "    <tr>\n",
              "      <th>4</th>\n",
              "      <td>57</td>\n",
              "      <td>0</td>\n",
              "      <td>0</td>\n",
              "      <td>120</td>\n",
              "      <td>354</td>\n",
              "      <td>0</td>\n",
              "      <td>1</td>\n",
              "      <td>163</td>\n",
              "      <td>1</td>\n",
              "      <td>2</td>\n",
              "      <td>0</td>\n",
              "      <td>2</td>\n",
              "      <td>1</td>\n",
              "      <td>0</td>\n",
              "      <td>6</td>\n",
              "    </tr>\n",
              "    <tr>\n",
              "      <th>...</th>\n",
              "      <td>...</td>\n",
              "      <td>...</td>\n",
              "      <td>...</td>\n",
              "      <td>...</td>\n",
              "      <td>...</td>\n",
              "      <td>...</td>\n",
              "      <td>...</td>\n",
              "      <td>...</td>\n",
              "      <td>...</td>\n",
              "      <td>...</td>\n",
              "      <td>...</td>\n",
              "      <td>...</td>\n",
              "      <td>...</td>\n",
              "      <td>...</td>\n",
              "      <td>...</td>\n",
              "    </tr>\n",
              "    <tr>\n",
              "      <th>298</th>\n",
              "      <td>57</td>\n",
              "      <td>0</td>\n",
              "      <td>0</td>\n",
              "      <td>140</td>\n",
              "      <td>241</td>\n",
              "      <td>0</td>\n",
              "      <td>1</td>\n",
              "      <td>123</td>\n",
              "      <td>1</td>\n",
              "      <td>1</td>\n",
              "      <td>0</td>\n",
              "      <td>3</td>\n",
              "      <td>0</td>\n",
              "      <td>0</td>\n",
              "      <td>2</td>\n",
              "    </tr>\n",
              "    <tr>\n",
              "      <th>299</th>\n",
              "      <td>45</td>\n",
              "      <td>1</td>\n",
              "      <td>3</td>\n",
              "      <td>110</td>\n",
              "      <td>264</td>\n",
              "      <td>0</td>\n",
              "      <td>1</td>\n",
              "      <td>132</td>\n",
              "      <td>0</td>\n",
              "      <td>1</td>\n",
              "      <td>0</td>\n",
              "      <td>3</td>\n",
              "      <td>0</td>\n",
              "      <td>1</td>\n",
              "      <td>2</td>\n",
              "    </tr>\n",
              "    <tr>\n",
              "      <th>300</th>\n",
              "      <td>68</td>\n",
              "      <td>1</td>\n",
              "      <td>0</td>\n",
              "      <td>144</td>\n",
              "      <td>193</td>\n",
              "      <td>1</td>\n",
              "      <td>1</td>\n",
              "      <td>141</td>\n",
              "      <td>0</td>\n",
              "      <td>1</td>\n",
              "      <td>2</td>\n",
              "      <td>3</td>\n",
              "      <td>0</td>\n",
              "      <td>3</td>\n",
              "      <td>4</td>\n",
              "    </tr>\n",
              "    <tr>\n",
              "      <th>301</th>\n",
              "      <td>57</td>\n",
              "      <td>1</td>\n",
              "      <td>0</td>\n",
              "      <td>130</td>\n",
              "      <td>131</td>\n",
              "      <td>0</td>\n",
              "      <td>1</td>\n",
              "      <td>115</td>\n",
              "      <td>1</td>\n",
              "      <td>1</td>\n",
              "      <td>1</td>\n",
              "      <td>3</td>\n",
              "      <td>0</td>\n",
              "      <td>1</td>\n",
              "      <td>2</td>\n",
              "    </tr>\n",
              "    <tr>\n",
              "      <th>302</th>\n",
              "      <td>57</td>\n",
              "      <td>0</td>\n",
              "      <td>1</td>\n",
              "      <td>130</td>\n",
              "      <td>236</td>\n",
              "      <td>0</td>\n",
              "      <td>0</td>\n",
              "      <td>174</td>\n",
              "      <td>0</td>\n",
              "      <td>1</td>\n",
              "      <td>1</td>\n",
              "      <td>2</td>\n",
              "      <td>0</td>\n",
              "      <td>0</td>\n",
              "      <td>0</td>\n",
              "    </tr>\n",
              "  </tbody>\n",
              "</table>\n",
              "<p>303 rows × 15 columns</p>\n",
              "</div>"
            ],
            "text/plain": [
              "     age  gender  ...  ST depression on exertion  ST depression on rest\n",
              "0     63       1  ...                          2                      3\n",
              "1     37       1  ...                          3                      5\n",
              "2     41       0  ...                          1                      4\n",
              "3     56       1  ...                          0                      8\n",
              "4     57       0  ...                          0                      6\n",
              "..   ...     ...  ...                        ...                    ...\n",
              "298   57       0  ...                          0                      2\n",
              "299   45       1  ...                          1                      2\n",
              "300   68       1  ...                          3                      4\n",
              "301   57       1  ...                          1                      2\n",
              "302   57       0  ...                          0                      0\n",
              "\n",
              "[303 rows x 15 columns]"
            ]
          },
          "metadata": {
            "tags": []
          },
          "execution_count": 5
        }
      ]
    },
    {
      "cell_type": "code",
      "metadata": {
        "id": "xByAiZXGNBs8",
        "colab": {
          "base_uri": "https://localhost:8080/"
        },
        "outputId": "574680e9-5f81-4499-f685-d09f71d619d7"
      },
      "source": [
        "# смотрим наличие пропущенных данных в табличке\n",
        "df.info()"
      ],
      "execution_count": 6,
      "outputs": [
        {
          "output_type": "stream",
          "text": [
            "<class 'pandas.core.frame.DataFrame'>\n",
            "RangeIndex: 303 entries, 0 to 302\n",
            "Data columns (total 15 columns):\n",
            " #   Column                                    Non-Null Count  Dtype\n",
            "---  ------                                    --------------  -----\n",
            " 0   age                                       303 non-null    int64\n",
            " 1   gender                                    303 non-null    int64\n",
            " 2   type of pain                              303 non-null    int64\n",
            " 3   blood pressure                            303 non-null    int64\n",
            " 4   cholesterol                               303 non-null    int64\n",
            " 5   sugar level                               303 non-null    int64\n",
            " 6   ECG result                                303 non-null    int64\n",
            " 7   maximum heart rate                        303 non-null    int64\n",
            " 8   angina pectoris during physical exertion  303 non-null    int64\n",
            " 9   ST slope under load                       303 non-null    int64\n",
            " 10  number of vessels                         303 non-null    int64\n",
            " 11  thalassemia                               303 non-null    int64\n",
            " 12  target predict class                      303 non-null    int64\n",
            " 13  ST depression on exertion                 303 non-null    int64\n",
            " 14  ST depression on rest                     303 non-null    int64\n",
            "dtypes: int64(15)\n",
            "memory usage: 35.6 KB\n"
          ],
          "name": "stdout"
        }
      ]
    },
    {
      "cell_type": "markdown",
      "metadata": {
        "id": "8VOFrl--NoP4"
      },
      "source": [
        "Незаполненных значений не выявлено, все данные хранятся в оптимальном для них типе (int)"
      ]
    },
    {
      "cell_type": "markdown",
      "metadata": {
        "id": "DqBajrNXN-SG"
      },
      "source": [
        "Чтобы найти корреляции между наличием заболевания у человека и другими признаками, построим матрицу корреляций."
      ]
    },
    {
      "cell_type": "code",
      "metadata": {
        "id": "LX7dNDtaNktt",
        "colab": {
          "base_uri": "https://localhost:8080/",
          "height": 695
        },
        "outputId": "09f5add5-2f3c-47cc-b1e8-f55768b9427a"
      },
      "source": [
        "corrmat = df.corr()\n",
        "\n",
        "f, ax = plt.subplots(figsize =(9, 8))\n",
        "sns.heatmap(corrmat, ax = ax, cmap =\"YlGnBu\", linewidths = 0.2)"
      ],
      "execution_count": 7,
      "outputs": [
        {
          "output_type": "execute_result",
          "data": {
            "text/plain": [
              "<matplotlib.axes._subplots.AxesSubplot at 0x7fb07d3b46d0>"
            ]
          },
          "metadata": {
            "tags": []
          },
          "execution_count": 7
        },
        {
          "output_type": "display_data",
          "data": {
            "image/png": "[encoded data removed]",
            "text/plain": [
              "<Figure size 648x576 with 2 Axes>"
            ]
          },
          "metadata": {
            "tags": [],
            "needs_background": "light"
          }
        }
      ]
    },
    {
      "cell_type": "markdown",
      "metadata": {
        "id": "6bXSKYhfPP4Z"
      },
      "source": [
        "Сильнее всего с наличием заболевания коррелируют (в порядке убывания) такие признаки, как:\n",
        "* Тип боли\n",
        "* Максимальный ЧСС\n",
        "* Наклон ST при нагрузке"
      ]
    },
    {
      "cell_type": "markdown",
      "metadata": {
        "id": "LHXu9H8rQM6S"
      },
      "source": [
        "Далее необходимо проанализировать следующие пункты:\n",
        "1. Кто чаще заболевает мужчины или женщины?\n",
        "2. Выделите 2 возрастные группы (условно люди в возрасте и молодые). Кто\n",
        "чаще заболевает и насколько.\n",
        "3. Кто раньше заболевает мужчины или женщины?\n",
        "4. Можно ли сказать, что с повышением максимального ЧСС растёт вероятность\n",
        "наличия заболевания?"
      ]
    },
    {
      "cell_type": "markdown",
      "metadata": {
        "id": "8JLOcA_Cp_k2"
      },
      "source": [
        "Примечание: в условии не было сказано, какой пол является \"0\" и \"1\" в предоставленных данных. \\\n",
        " Будем считать, что: \\\n",
        "\"0\" - Мужской пол \\\n",
        "\"1\" - Женский пол"
      ]
    },
    {
      "cell_type": "code",
      "metadata": {
        "id": "GP38yIWsix50",
        "colab": {
          "base_uri": "https://localhost:8080/",
          "height": 422
        },
        "outputId": "42bf219f-b908-41ec-f04f-d53c994d6682"
      },
      "source": [
        "# выделим больных в отдельный датафрейм для аналитики\n",
        "sick = df.loc[df['target predict class'] == 1]\n",
        "sick"
      ],
      "execution_count": 8,
      "outputs": [
        {
          "output_type": "execute_result",
          "data": {
            "text/html": [
              "<div>\n",
              "<style scoped>\n",
              "    .dataframe tbody tr th:only-of-type {\n",
              "        vertical-align: middle;\n",
              "    }\n",
              "\n",
              "    .dataframe tbody tr th {\n",
              "        vertical-align: top;\n",
              "    }\n",
              "\n",
              "    .dataframe thead th {\n",
              "        text-align: right;\n",
              "    }\n",
              "</style>\n",
              "<table border=\"1\" class=\"dataframe\">\n",
              "  <thead>\n",
              "    <tr style=\"text-align: right;\">\n",
              "      <th></th>\n",
              "      <th>age</th>\n",
              "      <th>gender</th>\n",
              "      <th>type of pain</th>\n",
              "      <th>blood pressure</th>\n",
              "      <th>cholesterol</th>\n",
              "      <th>sugar level</th>\n",
              "      <th>ECG result</th>\n",
              "      <th>maximum heart rate</th>\n",
              "      <th>angina pectoris during physical exertion</th>\n",
              "      <th>ST slope under load</th>\n",
              "      <th>number of vessels</th>\n",
              "      <th>thalassemia</th>\n",
              "      <th>target predict class</th>\n",
              "      <th>ST depression on exertion</th>\n",
              "      <th>ST depression on rest</th>\n",
              "    </tr>\n",
              "  </thead>\n",
              "  <tbody>\n",
              "    <tr>\n",
              "      <th>0</th>\n",
              "      <td>63</td>\n",
              "      <td>1</td>\n",
              "      <td>3</td>\n",
              "      <td>145</td>\n",
              "      <td>233</td>\n",
              "      <td>1</td>\n",
              "      <td>0</td>\n",
              "      <td>150</td>\n",
              "      <td>0</td>\n",
              "      <td>0</td>\n",
              "      <td>0</td>\n",
              "      <td>1</td>\n",
              "      <td>1</td>\n",
              "      <td>2</td>\n",
              "      <td>3</td>\n",
              "    </tr>\n",
              "    <tr>\n",
              "      <th>1</th>\n",
              "      <td>37</td>\n",
              "      <td>1</td>\n",
              "      <td>2</td>\n",
              "      <td>130</td>\n",
              "      <td>250</td>\n",
              "      <td>0</td>\n",
              "      <td>1</td>\n",
              "      <td>187</td>\n",
              "      <td>0</td>\n",
              "      <td>0</td>\n",
              "      <td>0</td>\n",
              "      <td>2</td>\n",
              "      <td>1</td>\n",
              "      <td>3</td>\n",
              "      <td>5</td>\n",
              "    </tr>\n",
              "    <tr>\n",
              "      <th>2</th>\n",
              "      <td>41</td>\n",
              "      <td>0</td>\n",
              "      <td>1</td>\n",
              "      <td>130</td>\n",
              "      <td>204</td>\n",
              "      <td>0</td>\n",
              "      <td>0</td>\n",
              "      <td>172</td>\n",
              "      <td>0</td>\n",
              "      <td>2</td>\n",
              "      <td>0</td>\n",
              "      <td>2</td>\n",
              "      <td>1</td>\n",
              "      <td>1</td>\n",
              "      <td>4</td>\n",
              "    </tr>\n",
              "    <tr>\n",
              "      <th>3</th>\n",
              "      <td>56</td>\n",
              "      <td>1</td>\n",
              "      <td>1</td>\n",
              "      <td>120</td>\n",
              "      <td>236</td>\n",
              "      <td>0</td>\n",
              "      <td>1</td>\n",
              "      <td>178</td>\n",
              "      <td>0</td>\n",
              "      <td>2</td>\n",
              "      <td>0</td>\n",
              "      <td>2</td>\n",
              "      <td>1</td>\n",
              "      <td>0</td>\n",
              "      <td>8</td>\n",
              "    </tr>\n",
              "    <tr>\n",
              "      <th>4</th>\n",
              "      <td>57</td>\n",
              "      <td>0</td>\n",
              "      <td>0</td>\n",
              "      <td>120</td>\n",
              "      <td>354</td>\n",
              "      <td>0</td>\n",
              "      <td>1</td>\n",
              "      <td>163</td>\n",
              "      <td>1</td>\n",
              "      <td>2</td>\n",
              "      <td>0</td>\n",
              "      <td>2</td>\n",
              "      <td>1</td>\n",
              "      <td>0</td>\n",
              "      <td>6</td>\n",
              "    </tr>\n",
              "    <tr>\n",
              "      <th>...</th>\n",
              "      <td>...</td>\n",
              "      <td>...</td>\n",
              "      <td>...</td>\n",
              "      <td>...</td>\n",
              "      <td>...</td>\n",
              "      <td>...</td>\n",
              "      <td>...</td>\n",
              "      <td>...</td>\n",
              "      <td>...</td>\n",
              "      <td>...</td>\n",
              "      <td>...</td>\n",
              "      <td>...</td>\n",
              "      <td>...</td>\n",
              "      <td>...</td>\n",
              "      <td>...</td>\n",
              "    </tr>\n",
              "    <tr>\n",
              "      <th>160</th>\n",
              "      <td>56</td>\n",
              "      <td>1</td>\n",
              "      <td>1</td>\n",
              "      <td>120</td>\n",
              "      <td>240</td>\n",
              "      <td>0</td>\n",
              "      <td>1</td>\n",
              "      <td>169</td>\n",
              "      <td>0</td>\n",
              "      <td>0</td>\n",
              "      <td>0</td>\n",
              "      <td>2</td>\n",
              "      <td>1</td>\n",
              "      <td>0</td>\n",
              "      <td>0</td>\n",
              "    </tr>\n",
              "    <tr>\n",
              "      <th>161</th>\n",
              "      <td>55</td>\n",
              "      <td>0</td>\n",
              "      <td>1</td>\n",
              "      <td>132</td>\n",
              "      <td>342</td>\n",
              "      <td>0</td>\n",
              "      <td>1</td>\n",
              "      <td>166</td>\n",
              "      <td>0</td>\n",
              "      <td>2</td>\n",
              "      <td>0</td>\n",
              "      <td>2</td>\n",
              "      <td>1</td>\n",
              "      <td>1</td>\n",
              "      <td>2</td>\n",
              "    </tr>\n",
              "    <tr>\n",
              "      <th>162</th>\n",
              "      <td>41</td>\n",
              "      <td>1</td>\n",
              "      <td>1</td>\n",
              "      <td>120</td>\n",
              "      <td>157</td>\n",
              "      <td>0</td>\n",
              "      <td>1</td>\n",
              "      <td>182</td>\n",
              "      <td>0</td>\n",
              "      <td>2</td>\n",
              "      <td>0</td>\n",
              "      <td>2</td>\n",
              "      <td>1</td>\n",
              "      <td>0</td>\n",
              "      <td>0</td>\n",
              "    </tr>\n",
              "    <tr>\n",
              "      <th>163</th>\n",
              "      <td>38</td>\n",
              "      <td>1</td>\n",
              "      <td>2</td>\n",
              "      <td>138</td>\n",
              "      <td>175</td>\n",
              "      <td>0</td>\n",
              "      <td>1</td>\n",
              "      <td>173</td>\n",
              "      <td>0</td>\n",
              "      <td>2</td>\n",
              "      <td>4</td>\n",
              "      <td>2</td>\n",
              "      <td>1</td>\n",
              "      <td>0</td>\n",
              "      <td>0</td>\n",
              "    </tr>\n",
              "    <tr>\n",
              "      <th>164</th>\n",
              "      <td>38</td>\n",
              "      <td>1</td>\n",
              "      <td>2</td>\n",
              "      <td>138</td>\n",
              "      <td>175</td>\n",
              "      <td>0</td>\n",
              "      <td>1</td>\n",
              "      <td>173</td>\n",
              "      <td>0</td>\n",
              "      <td>2</td>\n",
              "      <td>4</td>\n",
              "      <td>2</td>\n",
              "      <td>1</td>\n",
              "      <td>0</td>\n",
              "      <td>0</td>\n",
              "    </tr>\n",
              "  </tbody>\n",
              "</table>\n",
              "<p>165 rows × 15 columns</p>\n",
              "</div>"
            ],
            "text/plain": [
              "     age  gender  ...  ST depression on exertion  ST depression on rest\n",
              "0     63       1  ...                          2                      3\n",
              "1     37       1  ...                          3                      5\n",
              "2     41       0  ...                          1                      4\n",
              "3     56       1  ...                          0                      8\n",
              "4     57       0  ...                          0                      6\n",
              "..   ...     ...  ...                        ...                    ...\n",
              "160   56       1  ...                          0                      0\n",
              "161   55       0  ...                          1                      2\n",
              "162   41       1  ...                          0                      0\n",
              "163   38       1  ...                          0                      0\n",
              "164   38       1  ...                          0                      0\n",
              "\n",
              "[165 rows x 15 columns]"
            ]
          },
          "metadata": {
            "tags": []
          },
          "execution_count": 8
        }
      ]
    },
    {
      "cell_type": "markdown",
      "metadata": {
        "id": "YnKOin1Hjv7p"
      },
      "source": [
        "Кто чаще заболевает мужчины или женщины?"
      ]
    },
    {
      "cell_type": "code",
      "metadata": {
        "id": "iUD9MO_CNv9O",
        "colab": {
          "base_uri": "https://localhost:8080/",
          "height": 373
        },
        "outputId": "f26cbe1a-987f-4671-e6e2-7e843a85c980"
      },
      "source": [
        "# Data to plot\n",
        "labels = 'M', 'F'\n",
        "genders = [sum(sick.gender == 0), sum(sick.gender == 1)]\n",
        "colors = ['gold', 'lightskyblue']\n",
        "\n",
        "# Plot\n",
        "plt.figure(figsize = (6,6))\n",
        "plt.pie(genders, labels=labels, colors=colors,\n",
        "autopct='%1.1f%%', shadow=True, startangle=140)\n",
        "\n",
        "plt.title('Disease incidence by gender')\n",
        "plt.axis('equal')\n",
        "plt.show()"
      ],
      "execution_count": 9,
      "outputs": [
        {
          "output_type": "display_data",
          "data": {
            "image/png": "[encoded data removed]",
            "text/plain": [
              "<Figure size 432x432 with 1 Axes>"
            ]
          },
          "metadata": {
            "tags": []
          }
        }
      ]
    },
    {
      "cell_type": "markdown",
      "metadata": {
        "id": "1VdRIpGJTRF5"
      },
      "source": [
        "Исходя из построенного графика, можно сказать, что женщины (56,4%) подвержены заболеванию в большей степени, нежели мужчины (43,6%)."
      ]
    },
    {
      "cell_type": "markdown",
      "metadata": {
        "id": "S1U1Q6n8nL_i"
      },
      "source": [
        "Выделите 2 возрастные группы (условно люди в возрасте и молодые). Кто чаще заболевает и насколько."
      ]
    },
    {
      "cell_type": "code",
      "metadata": {
        "id": "T7QCkgooQuh8",
        "colab": {
          "base_uri": "https://localhost:8080/",
          "height": 514
        },
        "outputId": "cb64235c-3526-4515-bb5e-c1b0aac8505a"
      },
      "source": [
        "# построим распределение по возрасту\n",
        "plt.figure(figsize=(12,6), dpi= 80)\n",
        "sns_plot = sns.distplot(sick['age'])\n",
        "fig = sns_plot.get_figure()\n",
        "plt.title(\"Distribution of cases by age\")"
      ],
      "execution_count": 10,
      "outputs": [
        {
          "output_type": "stream",
          "text": [
            "/usr/local/lib/python3.7/dist-packages/seaborn/distributions.py:2557: FutureWarning: `distplot` is a deprecated function and will be removed in a future version. Please adapt your code to use either `displot` (a figure-level function with similar flexibility) or `histplot` (an axes-level function for histograms).\n",
            "  warnings.warn(msg, FutureWarning)\n"
          ],
          "name": "stderr"
        },
        {
          "output_type": "execute_result",
          "data": {
            "text/plain": [
              "Text(0.5, 1.0, 'Distribution of cases by age')"
            ]
          },
          "metadata": {
            "tags": []
          },
          "execution_count": 10
        },
        {
          "output_type": "display_data",
          "data": {
            "image/png": "[encoded data removed]",
            "text/plain": [
              "<Figure size 960x480 with 1 Axes>"
            ]
          },
          "metadata": {
            "tags": [],
            "needs_background": "light"
          }
        }
      ]
    },
    {
      "cell_type": "markdown",
      "metadata": {
        "id": "yh1VNIcvU-6A"
      },
      "source": [
        "Из графика распределения заболеваемости можно увидеть, что в основном оно проявляется у людей в возрасте, нежели у молодежи."
      ]
    },
    {
      "cell_type": "code",
      "metadata": {
        "id": "tK3gIj73T1Je",
        "colab": {
          "base_uri": "https://localhost:8080/"
        },
        "outputId": "5b4480cf-a6bb-42ae-c06f-62a52062ce18"
      },
      "source": [
        "# если считать молодежью лиц до 35 лет включительно, то можно узнать, во сколько раз молодежь заболевает меньше остальных\n",
        "sum(sick.age <= 35) "
      ],
      "execution_count": 11,
      "outputs": [
        {
          "output_type": "execute_result",
          "data": {
            "text/plain": [
              "5"
            ]
          },
          "metadata": {
            "tags": []
          },
          "execution_count": 11
        }
      ]
    },
    {
      "cell_type": "code",
      "metadata": {
        "id": "gCqJUhsvkfYo",
        "colab": {
          "base_uri": "https://localhost:8080/"
        },
        "outputId": "10f0b811-9398-4deb-8b86-42556a1f9938"
      },
      "source": [
        "sum(sick.age > 35)"
      ],
      "execution_count": 12,
      "outputs": [
        {
          "output_type": "execute_result",
          "data": {
            "text/plain": [
              "160"
            ]
          },
          "metadata": {
            "tags": []
          },
          "execution_count": 12
        }
      ]
    },
    {
      "cell_type": "markdown",
      "metadata": {
        "id": "Bu2H2XRThQBR"
      },
      "source": [
        "Значит молодежь заболевает в $160/5 = 32$ раза реже, нежели остальные люди."
      ]
    },
    {
      "cell_type": "markdown",
      "metadata": {
        "id": "5EcnCjAknLJD"
      },
      "source": [
        "Кто раньше заболевает мужчины или женщины?"
      ]
    },
    {
      "cell_type": "code",
      "metadata": {
        "id": "9FNM_fwCkoru",
        "colab": {
          "base_uri": "https://localhost:8080/",
          "height": 460
        },
        "outputId": "170f51d9-0b72-4fdc-a173-83cbb44e978b"
      },
      "source": [
        "plt.figure(figsize=(12,6), dpi= 80)\n",
        "sns.kdeplot(sick.loc[sick['gender'] == 0, 'age'], shade=True, color=\"b\", label=\"Male\", alpha = 0.33)\n",
        "sns.kdeplot(sick.loc[sick['gender'] == 1, 'age'], shade=True, color=\"r\", label=\"Female\", alpha = 0.33)\n",
        "plt.title(\"Distribution of cases by age for Males and Females\")\n",
        "plt.legend()"
      ],
      "execution_count": 13,
      "outputs": [
        {
          "output_type": "execute_result",
          "data": {
            "text/plain": [
              "<matplotlib.legend.Legend at 0x7fb071a5edd0>"
            ]
          },
          "metadata": {
            "tags": []
          },
          "execution_count": 13
        },
        {
          "output_type": "display_data",
          "data": {
            "image/png": "[encoded data removed]",
            "text/plain": [
              "<Figure size 960x480 with 1 Axes>"
            ]
          },
          "metadata": {
            "tags": [],
            "needs_background": "light"
          }
        }
      ]
    },
    {
      "cell_type": "markdown",
      "metadata": {
        "id": "iBmKQIBBpw-L"
      },
      "source": [
        "Как видно из диаграммы, распределения показывают, что в среднем женщины заболевают раньше мужчин."
      ]
    },
    {
      "cell_type": "markdown",
      "metadata": {
        "id": "k7aCFPjprAtv"
      },
      "source": [
        "Можно ли сказать, что с повышением максимального ЧСС растёт вероятность наличия заболевания?"
      ]
    },
    {
      "cell_type": "code",
      "metadata": {
        "id": "4HyjqZIhnfMy",
        "colab": {
          "base_uri": "https://localhost:8080/",
          "height": 565
        },
        "outputId": "54428f5a-0b9b-4739-8ba5-3f41fb379466"
      },
      "source": [
        "plt.figure(figsize=(6,8), dpi= 80)\n",
        "sns.boxplot(x='target predict class', y='maximum heart rate', data=df, notch=False)"
      ],
      "execution_count": 14,
      "outputs": [
        {
          "output_type": "execute_result",
          "data": {
            "text/plain": [
              "<matplotlib.axes._subplots.AxesSubplot at 0x7fb073b15f90>"
            ]
          },
          "metadata": {
            "tags": []
          },
          "execution_count": 14
        },
        {
          "output_type": "display_data",
          "data": {
            "image/png": "[encoded data removed]",
            "text/plain": [
              "<Figure size 480x640 with 1 Axes>"
            ]
          },
          "metadata": {
            "tags": [],
            "needs_background": "light"
          }
        }
      ]
    },
    {
      "cell_type": "code",
      "metadata": {
        "colab": {
          "base_uri": "https://localhost:8080/"
        },
        "id": "vTLxp5lHxJc9",
        "outputId": "43613afc-adab-4b5e-a8b4-74da4e012244"
      },
      "source": [
        "stats.ttest_ind(df[df['target predict class'] == 0]['age'], df[df['target predict class'] == 1]['age'])"
      ],
      "execution_count": 15,
      "outputs": [
        {
          "output_type": "execute_result",
          "data": {
            "text/plain": [
              "Ttest_indResult(statistic=4.014560975148874, pvalue=7.524801303442373e-05)"
            ]
          },
          "metadata": {
            "tags": []
          },
          "execution_count": 15
        }
      ]
    },
    {
      "cell_type": "markdown",
      "metadata": {
        "id": "AVeih0l519oz"
      },
      "source": [
        "p-value имеет порядок 10^-5 степени, что меньше 0,05 и говорит о наличии различия между двумя независимыми выборками. \\\n",
        "Делаем вывод, что чем выше максимальное ЧСС, тем вероятнеее у человека есть заболевание."
      ]
    },
    {
      "cell_type": "markdown",
      "metadata": {
        "id": "Q-5kh9kb-UOP"
      },
      "source": [
        "Построим модель классификации наличия заболевания."
      ]
    },
    {
      "cell_type": "code",
      "metadata": {
        "colab": {
          "base_uri": "https://localhost:8080/",
          "height": 422
        },
        "id": "Obq8kCXGBUjt",
        "outputId": "9ce67c50-d4d1-4ba4-b50a-05e97414ca95"
      },
      "source": [
        "# перемешаем строки в нашем датафрейме\n",
        "df_shuffle = df.sample(frac=1)\n",
        "df_shuffle"
      ],
      "execution_count": 16,
      "outputs": [
        {
          "output_type": "execute_result",
          "data": {
            "text/html": [
              "<div>\n",
              "<style scoped>\n",
              "    .dataframe tbody tr th:only-of-type {\n",
              "        vertical-align: middle;\n",
              "    }\n",
              "\n",
              "    .dataframe tbody tr th {\n",
              "        vertical-align: top;\n",
              "    }\n",
              "\n",
              "    .dataframe thead th {\n",
              "        text-align: right;\n",
              "    }\n",
              "</style>\n",
              "<table border=\"1\" class=\"dataframe\">\n",
              "  <thead>\n",
              "    <tr style=\"text-align: right;\">\n",
              "      <th></th>\n",
              "      <th>age</th>\n",
              "      <th>gender</th>\n",
              "      <th>type of pain</th>\n",
              "      <th>blood pressure</th>\n",
              "      <th>cholesterol</th>\n",
              "      <th>sugar level</th>\n",
              "      <th>ECG result</th>\n",
              "      <th>maximum heart rate</th>\n",
              "      <th>angina pectoris during physical exertion</th>\n",
              "      <th>ST slope under load</th>\n",
              "      <th>number of vessels</th>\n",
              "      <th>thalassemia</th>\n",
              "      <th>target predict class</th>\n",
              "      <th>ST depression on exertion</th>\n",
              "      <th>ST depression on rest</th>\n",
              "    </tr>\n",
              "  </thead>\n",
              "  <tbody>\n",
              "    <tr>\n",
              "      <th>231</th>\n",
              "      <td>57</td>\n",
              "      <td>1</td>\n",
              "      <td>0</td>\n",
              "      <td>165</td>\n",
              "      <td>289</td>\n",
              "      <td>1</td>\n",
              "      <td>0</td>\n",
              "      <td>124</td>\n",
              "      <td>0</td>\n",
              "      <td>1</td>\n",
              "      <td>3</td>\n",
              "      <td>3</td>\n",
              "      <td>0</td>\n",
              "      <td>1</td>\n",
              "      <td>0</td>\n",
              "    </tr>\n",
              "    <tr>\n",
              "      <th>86</th>\n",
              "      <td>68</td>\n",
              "      <td>1</td>\n",
              "      <td>2</td>\n",
              "      <td>118</td>\n",
              "      <td>277</td>\n",
              "      <td>0</td>\n",
              "      <td>1</td>\n",
              "      <td>151</td>\n",
              "      <td>0</td>\n",
              "      <td>2</td>\n",
              "      <td>1</td>\n",
              "      <td>3</td>\n",
              "      <td>1</td>\n",
              "      <td>1</td>\n",
              "      <td>0</td>\n",
              "    </tr>\n",
              "    <tr>\n",
              "      <th>177</th>\n",
              "      <td>64</td>\n",
              "      <td>1</td>\n",
              "      <td>2</td>\n",
              "      <td>140</td>\n",
              "      <td>335</td>\n",
              "      <td>0</td>\n",
              "      <td>1</td>\n",
              "      <td>158</td>\n",
              "      <td>0</td>\n",
              "      <td>2</td>\n",
              "      <td>0</td>\n",
              "      <td>2</td>\n",
              "      <td>0</td>\n",
              "      <td>0</td>\n",
              "      <td>0</td>\n",
              "    </tr>\n",
              "    <tr>\n",
              "      <th>135</th>\n",
              "      <td>49</td>\n",
              "      <td>0</td>\n",
              "      <td>0</td>\n",
              "      <td>130</td>\n",
              "      <td>269</td>\n",
              "      <td>0</td>\n",
              "      <td>1</td>\n",
              "      <td>163</td>\n",
              "      <td>0</td>\n",
              "      <td>2</td>\n",
              "      <td>0</td>\n",
              "      <td>2</td>\n",
              "      <td>1</td>\n",
              "      <td>0</td>\n",
              "      <td>0</td>\n",
              "    </tr>\n",
              "    <tr>\n",
              "      <th>36</th>\n",
              "      <td>54</td>\n",
              "      <td>0</td>\n",
              "      <td>2</td>\n",
              "      <td>135</td>\n",
              "      <td>304</td>\n",
              "      <td>1</td>\n",
              "      <td>1</td>\n",
              "      <td>170</td>\n",
              "      <td>0</td>\n",
              "      <td>2</td>\n",
              "      <td>0</td>\n",
              "      <td>2</td>\n",
              "      <td>1</td>\n",
              "      <td>0</td>\n",
              "      <td>0</td>\n",
              "    </tr>\n",
              "    <tr>\n",
              "      <th>...</th>\n",
              "      <td>...</td>\n",
              "      <td>...</td>\n",
              "      <td>...</td>\n",
              "      <td>...</td>\n",
              "      <td>...</td>\n",
              "      <td>...</td>\n",
              "      <td>...</td>\n",
              "      <td>...</td>\n",
              "      <td>...</td>\n",
              "      <td>...</td>\n",
              "      <td>...</td>\n",
              "      <td>...</td>\n",
              "      <td>...</td>\n",
              "      <td>...</td>\n",
              "      <td>...</td>\n",
              "    </tr>\n",
              "    <tr>\n",
              "      <th>283</th>\n",
              "      <td>40</td>\n",
              "      <td>1</td>\n",
              "      <td>0</td>\n",
              "      <td>152</td>\n",
              "      <td>223</td>\n",
              "      <td>0</td>\n",
              "      <td>1</td>\n",
              "      <td>181</td>\n",
              "      <td>0</td>\n",
              "      <td>2</td>\n",
              "      <td>0</td>\n",
              "      <td>3</td>\n",
              "      <td>0</td>\n",
              "      <td>0</td>\n",
              "      <td>0</td>\n",
              "    </tr>\n",
              "    <tr>\n",
              "      <th>67</th>\n",
              "      <td>45</td>\n",
              "      <td>0</td>\n",
              "      <td>1</td>\n",
              "      <td>130</td>\n",
              "      <td>234</td>\n",
              "      <td>0</td>\n",
              "      <td>0</td>\n",
              "      <td>175</td>\n",
              "      <td>0</td>\n",
              "      <td>1</td>\n",
              "      <td>0</td>\n",
              "      <td>2</td>\n",
              "      <td>1</td>\n",
              "      <td>0</td>\n",
              "      <td>6</td>\n",
              "    </tr>\n",
              "    <tr>\n",
              "      <th>144</th>\n",
              "      <td>76</td>\n",
              "      <td>0</td>\n",
              "      <td>2</td>\n",
              "      <td>140</td>\n",
              "      <td>197</td>\n",
              "      <td>0</td>\n",
              "      <td>2</td>\n",
              "      <td>116</td>\n",
              "      <td>0</td>\n",
              "      <td>1</td>\n",
              "      <td>0</td>\n",
              "      <td>2</td>\n",
              "      <td>1</td>\n",
              "      <td>1</td>\n",
              "      <td>1</td>\n",
              "    </tr>\n",
              "    <tr>\n",
              "      <th>87</th>\n",
              "      <td>46</td>\n",
              "      <td>1</td>\n",
              "      <td>1</td>\n",
              "      <td>101</td>\n",
              "      <td>197</td>\n",
              "      <td>1</td>\n",
              "      <td>1</td>\n",
              "      <td>156</td>\n",
              "      <td>0</td>\n",
              "      <td>2</td>\n",
              "      <td>0</td>\n",
              "      <td>3</td>\n",
              "      <td>1</td>\n",
              "      <td>0</td>\n",
              "      <td>0</td>\n",
              "    </tr>\n",
              "    <tr>\n",
              "      <th>22</th>\n",
              "      <td>42</td>\n",
              "      <td>1</td>\n",
              "      <td>0</td>\n",
              "      <td>140</td>\n",
              "      <td>226</td>\n",
              "      <td>0</td>\n",
              "      <td>1</td>\n",
              "      <td>178</td>\n",
              "      <td>0</td>\n",
              "      <td>2</td>\n",
              "      <td>0</td>\n",
              "      <td>2</td>\n",
              "      <td>1</td>\n",
              "      <td>0</td>\n",
              "      <td>0</td>\n",
              "    </tr>\n",
              "  </tbody>\n",
              "</table>\n",
              "<p>303 rows × 15 columns</p>\n",
              "</div>"
            ],
            "text/plain": [
              "     age  gender  ...  ST depression on exertion  ST depression on rest\n",
              "231   57       1  ...                          1                      0\n",
              "86    68       1  ...                          1                      0\n",
              "177   64       1  ...                          0                      0\n",
              "135   49       0  ...                          0                      0\n",
              "36    54       0  ...                          0                      0\n",
              "..   ...     ...  ...                        ...                    ...\n",
              "283   40       1  ...                          0                      0\n",
              "67    45       0  ...                          0                      6\n",
              "144   76       0  ...                          1                      1\n",
              "87    46       1  ...                          0                      0\n",
              "22    42       1  ...                          0                      0\n",
              "\n",
              "[303 rows x 15 columns]"
            ]
          },
          "metadata": {
            "tags": []
          },
          "execution_count": 16
        }
      ]
    },
    {
      "cell_type": "code",
      "metadata": {
        "id": "KZu9ABQE_eUp"
      },
      "source": [
        "# выделяем целевые классы\n",
        "y = df_shuffle['target predict class'].to_numpy()\n",
        "\n",
        "# выделяем фичи\n",
        "features = df_shuffle.drop(labels=['target predict class'], axis=1)\n",
        "X = features.to_numpy()"
      ],
      "execution_count": 17,
      "outputs": []
    },
    {
      "cell_type": "code",
      "metadata": {
        "colab": {
          "base_uri": "https://localhost:8080/"
        },
        "id": "i0Fro3ACANSr",
        "outputId": "ff63d814-6285-47a3-f0ca-76364ba5b125"
      },
      "source": [
        "X"
      ],
      "execution_count": 18,
      "outputs": [
        {
          "output_type": "execute_result",
          "data": {
            "text/plain": [
              "array([[57,  1,  0, ...,  3,  1,  0],\n",
              "       [68,  1,  2, ...,  3,  1,  0],\n",
              "       [64,  1,  2, ...,  2,  0,  0],\n",
              "       ...,\n",
              "       [76,  0,  2, ...,  2,  1,  1],\n",
              "       [46,  1,  1, ...,  3,  0,  0],\n",
              "       [42,  1,  0, ...,  2,  0,  0]])"
            ]
          },
          "metadata": {
            "tags": []
          },
          "execution_count": 18
        }
      ]
    },
    {
      "cell_type": "code",
      "metadata": {
        "colab": {
          "base_uri": "https://localhost:8080/"
        },
        "id": "YCz4Z7C0AZZ9",
        "outputId": "3f91b471-7dd2-428f-b8d1-5fbe3415f9ef"
      },
      "source": [
        "y"
      ],
      "execution_count": 19,
      "outputs": [
        {
          "output_type": "execute_result",
          "data": {
            "text/plain": [
              "array([0, 1, 0, 1, 1, 0, 1, 1, 0, 0, 0, 1, 1, 1, 0, 0, 0, 0, 0, 0, 0, 1,\n",
              "       0, 0, 0, 0, 1, 0, 0, 0, 1, 0, 0, 1, 1, 1, 0, 1, 1, 0, 1, 1, 1, 0,\n",
              "       0, 0, 1, 1, 1, 1, 0, 1, 1, 1, 1, 0, 1, 0, 1, 0, 0, 1, 0, 1, 1, 0,\n",
              "       1, 0, 0, 1, 0, 0, 0, 1, 0, 0, 0, 0, 0, 1, 1, 0, 1, 0, 1, 1, 1, 0,\n",
              "       1, 1, 1, 1, 1, 1, 1, 1, 1, 0, 0, 1, 0, 1, 1, 0, 1, 1, 1, 1, 0, 0,\n",
              "       1, 1, 0, 1, 1, 0, 0, 1, 1, 0, 1, 0, 0, 0, 1, 1, 0, 1, 1, 1, 0, 0,\n",
              "       0, 1, 0, 0, 1, 0, 0, 1, 0, 0, 1, 1, 1, 0, 1, 1, 0, 1, 0, 1, 1, 1,\n",
              "       1, 0, 1, 0, 0, 1, 0, 1, 1, 1, 0, 0, 0, 1, 0, 0, 0, 1, 1, 1, 0, 0,\n",
              "       0, 1, 1, 1, 1, 1, 0, 1, 0, 1, 0, 1, 0, 1, 1, 1, 1, 1, 0, 0, 1, 0,\n",
              "       1, 1, 0, 0, 0, 0, 0, 1, 1, 1, 0, 0, 0, 0, 0, 1, 1, 1, 1, 1, 1, 1,\n",
              "       1, 0, 0, 1, 1, 0, 0, 1, 1, 0, 1, 0, 1, 1, 1, 0, 1, 0, 0, 0, 0, 0,\n",
              "       0, 1, 1, 1, 0, 1, 0, 0, 0, 0, 1, 1, 0, 0, 1, 1, 1, 0, 0, 1, 1, 1,\n",
              "       1, 0, 1, 1, 1, 0, 1, 1, 1, 0, 0, 1, 1, 1, 0, 1, 0, 0, 1, 1, 1, 1,\n",
              "       0, 1, 0, 1, 0, 0, 0, 1, 1, 1, 1, 1, 0, 1, 1, 1, 1])"
            ]
          },
          "metadata": {
            "tags": []
          },
          "execution_count": 19
        }
      ]
    },
    {
      "cell_type": "code",
      "metadata": {
        "id": "cWiwQiyLBnlY"
      },
      "source": [
        "# сделаем разбивку на тестовую и тренировочную выборки\n",
        "X_train, X_test, y_train, y_test = train_test_split(X, y, test_size=0.3, random_state=42)"
      ],
      "execution_count": 20,
      "outputs": []
    },
    {
      "cell_type": "code",
      "metadata": {
        "id": "2AkgqW6xyuJ_"
      },
      "source": [
        "# строим модели предсказания, а после сравниваем их:\n",
        "\n",
        "# импортируем модели\n",
        "from sklearn.tree import DecisionTreeClassifier\n",
        "from sklearn.neighbors import KNeighborsClassifier\n",
        "from sklearn.ensemble import RandomForestClassifier\n",
        "from sklearn.naive_bayes import GaussianNB\n",
        "from sklearn.tree import ExtraTreeClassifier\n",
        "import xgboost"
      ],
      "execution_count": 21,
      "outputs": []
    },
    {
      "cell_type": "code",
      "metadata": {
        "id": "89oQ6pZ3_MHq"
      },
      "source": [
        "# создадим модели для обучения с различными гиперпараметрами\n",
        "clf1 = DecisionTreeClassifier(random_state = 101, max_depth = 5)\n",
        "clf2 = KNeighborsClassifier(n_neighbors = 3)\n",
        "clf3 = RandomForestClassifier(random_state = 1, max_depth = 25)\n",
        "clf4 = GaussianNB()\n",
        "clf5 = ExtraTreeClassifier(random_state = 3)\n",
        "clf6 = DecisionTreeClassifier(random_state=8, max_depth = 12)\n",
        "clf7 = xgboost.XGBClassifier(random_state = 228, max_depth = 50)"
      ],
      "execution_count": 22,
      "outputs": []
    },
    {
      "cell_type": "code",
      "metadata": {
        "colab": {
          "base_uri": "https://localhost:8080/"
        },
        "id": "LZyASxdi_SFH",
        "outputId": "8986f682-8c83-4941-fac2-0271073c3c2f"
      },
      "source": [
        "# сделаем предсказание на валидационной выборке и оценим его точность с помощью метрики ROC-AUC\n",
        "# обучаем модели\n",
        "clf1.fit(X_train,y_train)\n",
        "print('clf1 - Done')\n",
        "clf2.fit(X_train,y_train)\n",
        "print('clf2 - Done')\n",
        "clf3.fit(X_train,y_train)\n",
        "print('clf3 - Done')\n",
        "clf4.fit(X_train,y_train)\n",
        "print('clf4 - Done')\n",
        "clf5.fit(X_train,y_train)\n",
        "print('clf5 - Done')\n",
        "clf6.fit(X_train,y_train)\n",
        "print('clf6 - Done')\n",
        "clf7.fit(X_train,y_train)\n",
        "print('clf7 - Done')"
      ],
      "execution_count": 23,
      "outputs": [
        {
          "output_type": "stream",
          "text": [
            "clf1 - Done\n",
            "clf2 - Done\n",
            "clf3 - Done\n",
            "clf4 - Done\n",
            "clf5 - Done\n",
            "clf6 - Done\n",
            "clf7 - Done\n"
          ],
          "name": "stdout"
        }
      ]
    },
    {
      "cell_type": "code",
      "metadata": {
        "id": "NwlhlUgm_R_8"
      },
      "source": [
        "# делаем предсказания для валидационной выборки\n",
        "y_pred_clf1 = clf1.predict_proba(X_test)[:, 1]\n",
        "y_pred_clf2 = clf2.predict_proba(X_test)[:, 1]\n",
        "y_pred_clf3 = clf3.predict_proba(X_test)[:, 1]\n",
        "y_pred_clf4 = clf4.predict_proba(X_test)[:, 1]\n",
        "y_pred_clf5 = clf5.predict_proba(X_test)[:, 1]\n",
        "y_pred_clf6 = clf6.predict_proba(X_test)[:, 1]\n",
        "y_pred_clf7 = clf7.predict_proba(X_test)[:, 1]\n",
        "\n",
        "y_pred1 = clf1.predict(X_test)\n",
        "y_pred2 = clf2.predict(X_test)\n",
        "y_pred3 = clf3.predict(X_test)\n",
        "y_pred4 = clf4.predict(X_test)\n",
        "y_pred5 = clf5.predict(X_test)\n",
        "y_pred6 = clf6.predict(X_test)\n",
        "y_pred7 = clf7.predict(X_test)"
      ],
      "execution_count": 24,
      "outputs": []
    },
    {
      "cell_type": "code",
      "metadata": {
        "colab": {
          "base_uri": "https://localhost:8080/"
        },
        "id": "mELVMXKj_R-X",
        "outputId": "d96db65d-059e-4d48-8e95-088225fd6cca"
      },
      "source": [
        "# оцениваем результат предсказания \n",
        "from sklearn.metrics import roc_auc_score\n",
        "from sklearn.metrics import f1_score\n",
        "from sklearn.metrics import accuracy_score\n",
        "\n",
        "print('Результаты:')\n",
        "print('------------------------------------')\n",
        "print('clf1 - DecisionTreeClassifier(random_state=101, max_depth = 5)')\n",
        "print(f'ROC-AUC score: {roc_auc_score(y_test, y_pred_clf1):.3f}, F1 score: {f1_score(y_test, y_pred1):.3f}, Accuracy score: {accuracy_score(y_test, y_pred1):.3f}')\n",
        "print('----')\n",
        "print('clf2 - KNeighborsClassifier(n_neighbors = 3)')\n",
        "print(f'ROC-AUC score: {roc_auc_score(y_test, y_pred_clf2):.3f}, F1 score: {f1_score(y_test, y_pred2):.3f}, Accuracy score: {accuracy_score(y_test, y_pred2):.3f}')\n",
        "print('----')\n",
        "print('clf3 - RandomForestClassifier(random_state=1, max_depth = 25)')\n",
        "print(f'ROC-AUC score: {roc_auc_score(y_test, y_pred_clf3):.3f}, F1 score: {f1_score(y_test, y_pred3):.3f}, Accuracy score: {accuracy_score(y_test, y_pred3):.3f}')\n",
        "print('----')\n",
        "print('clf4 - GaussianNB()')\n",
        "print(f'ROC-AUC score: {roc_auc_score(y_test, y_pred_clf4):.3f}, F1 score: {f1_score(y_test, y_pred4):.3f}, Accuracy score: {accuracy_score(y_test, y_pred4):.3f}')\n",
        "print('----')\n",
        "print('clf5 - ExtraTreeClassifier(random_state = 3)')\n",
        "print(f'ROC-AUC score: {roc_auc_score(y_test, y_pred_clf5):.3f}, F1 score: {f1_score(y_test, y_pred5):.3f}, Accuracy score: {accuracy_score(y_test, y_pred5):.3f}')\n",
        "print('----')\n",
        "print('clf6 - DecisionTreeClassifier(random_state=8, max_depth = 12)')\n",
        "print(f'ROC-AUC score: {roc_auc_score(y_test, y_pred_clf6):.3f}, F1 score: {f1_score(y_test, y_pred6):.3f}, Accuracy score: {accuracy_score(y_test, y_pred6):.3f}')\n",
        "print('----')\n",
        "print('clf7 - xgboost.XGBClassifier(random_state = 228, max_depth = 50)')\n",
        "print(f'ROC-AUC score: {roc_auc_score(y_test, y_pred_clf7):.3f}, F1 score: {f1_score(y_test, y_pred7):.3f}, Accuracy score: {accuracy_score(y_test, y_pred7):.3f}')\n"
      ],
      "execution_count": 25,
      "outputs": [
        {
          "output_type": "stream",
          "text": [
            "Результаты:\n",
            "------------------------------------\n",
            "clf1 - DecisionTreeClassifier(random_state=101, max_depth = 5)\n",
            "ROC-AUC score: 0.859, F1 score: 0.787, Accuracy score: 0.780\n",
            "----\n",
            "clf2 - KNeighborsClassifier(n_neighbors = 3)\n",
            "ROC-AUC score: 0.711, F1 score: 0.718, Accuracy score: 0.681\n",
            "----\n",
            "clf3 - RandomForestClassifier(random_state=1, max_depth = 25)\n",
            "ROC-AUC score: 0.926, F1 score: 0.869, Accuracy score: 0.857\n",
            "----\n",
            "clf4 - GaussianNB()\n",
            "ROC-AUC score: 0.913, F1 score: 0.848, Accuracy score: 0.835\n",
            "----\n",
            "clf5 - ExtraTreeClassifier(random_state = 3)\n",
            "ROC-AUC score: 0.780, F1 score: 0.800, Accuracy score: 0.780\n",
            "----\n",
            "clf6 - DecisionTreeClassifier(random_state=8, max_depth = 12)\n",
            "ROC-AUC score: 0.721, F1 score: 0.723, Accuracy score: 0.714\n",
            "----\n",
            "clf7 - xgboost.XGBClassifier(random_state = 228, max_depth = 50)\n",
            "ROC-AUC score: 0.928, F1 score: 0.839, Accuracy score: 0.835\n"
          ],
          "name": "stdout"
        }
      ]
    },
    {
      "cell_type": "markdown",
      "metadata": {
        "id": "2jTbyXKkJi5Z"
      },
      "source": [
        "Мы построили несколько классификаторов для данной задачи. \\\n",
        "По результатам метрик видно, что лучше всех с задачей классификации справились XGBoost и RandomForest."
      ]
    },
    {
      "cell_type": "code",
      "metadata": {
        "id": "0tkGekU5hp-m"
      },
      "source": [
        ""
      ],
      "execution_count": 25,
      "outputs": []
    }
  ]
}